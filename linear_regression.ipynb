{
 "cells": [
  {
   "cell_type": "code",
   "execution_count": 1,
   "metadata": {},
   "outputs": [
    {
     "name": "stderr",
     "output_type": "stream",
     "text": [
      "2022-03-29 23:40:29.666613: W tensorflow/stream_executor/platform/default/dso_loader.cc:64] Could not load dynamic library 'libcudart.so.11.0'; dlerror: libcudart.so.11.0: cannot open shared object file: No such file or directory\n",
      "2022-03-29 23:40:29.666638: I tensorflow/stream_executor/cuda/cudart_stub.cc:29] Ignore above cudart dlerror if you do not have a GPU set up on your machine.\n"
     ]
    }
   ],
   "source": [
    "import numpy as np\n",
    "import keras\n",
    "import keras.layers as layers\n",
    "import matplotlib.pyplot as plt\n",
    "import tensorflow as tf\n",
    "from sklearn.model_selection._split import train_test_split"
   ]
  },
  {
   "cell_type": "code",
   "execution_count": 2,
   "metadata": {},
   "outputs": [],
   "source": [
    "#x = [1,    2,        3,           4, 5,                  6, 100]\n",
    "#y = [0.99, 2.000001, 3.020000011, 4, 4.9999999999999923, 6, 10]\n",
    "\n",
    "# Just checking out Y = mX + c (m = 1, c = 0 => Y = X)\n",
    "x = range(0, 100, 1)\n",
    "y = range(0, 100, 1)"
   ]
  },
  {
   "cell_type": "code",
   "execution_count": 3,
   "metadata": {},
   "outputs": [
    {
     "data": {
      "image/png": "[encoded data removed]",
      "text/plain": [
       "<Figure size 432x288 with 1 Axes>"
      ]
     },
     "metadata": {
      "needs_background": "light"
     },
     "output_type": "display_data"
    }
   ],
   "source": [
    "fig, ax = plt.subplots()\n",
    "ax.scatter(x, y, edgecolors=(0, 0, 0))\n",
    "ax.set_xlabel('X')\n",
    "ax.set_ylabel('Y')\n",
    "plt.show()"
   ]
  },
  {
   "cell_type": "code",
   "execution_count": 4,
   "metadata": {},
   "outputs": [
    {
     "name": "stderr",
     "output_type": "stream",
     "text": [
      "2022-03-29 23:40:36.469549: W tensorflow/stream_executor/platform/default/dso_loader.cc:64] Could not load dynamic library 'libcuda.so.1'; dlerror: libcuda.so.1: cannot open shared object file: No such file or directory\n",
      "2022-03-29 23:40:36.469581: W tensorflow/stream_executor/cuda/cuda_driver.cc:269] failed call to cuInit: UNKNOWN ERROR (303)\n",
      "2022-03-29 23:40:36.469599: I tensorflow/stream_executor/cuda/cuda_diagnostics.cc:156] kernel driver does not appear to be running on this host (montyden): /proc/driver/nvidia/version does not exist\n",
      "2022-03-29 23:40:36.469806: I tensorflow/core/platform/cpu_feature_guard.cc:151] This TensorFlow binary is optimized with oneAPI Deep Neural Network Library (oneDNN) to use the following CPU instructions in performance-critical operations:  AVX2 FMA\n",
      "To enable them in other operations, rebuild TensorFlow with the appropriate compiler flags.\n"
     ]
    }
   ],
   "source": [
    "model = keras.Sequential([\n",
    "      layers.Dense(1, use_bias=True, input_shape=(1,))\n",
    "    ])"
   ]
  },
  {
   "cell_type": "code",
   "execution_count": 5,
   "metadata": {},
   "outputs": [],
   "source": [
    "optimizer = tf.keras.optimizers.Adam(\n",
    "    learning_rate=0.01, beta_1=0.9, beta_2=0.99, epsilon=1e-05, amsgrad=False,\n",
    "    name='Adam')"
   ]
  },
  {
   "cell_type": "code",
   "execution_count": 6,
   "metadata": {},
   "outputs": [],
   "source": [
    "model.compile(loss='mse', optimizer=optimizer, metrics=['mae','mse'])"
   ]
  },
  {
   "cell_type": "code",
   "execution_count": 7,
   "metadata": {},
   "outputs": [],
   "source": [
    "X_train, X_test, y_train, y_test = train_test_split(x, y, test_size=0.33)"
   ]
  },
  {
   "cell_type": "code",
   "execution_count": 8,
   "metadata": {},
   "outputs": [],
   "source": [
    "# A mechanism that stops training if the validation loss is not improving for more than n_idle_epochs.\n",
    "n_idle_epochs = 100\n",
    "earlyStopping = tf.keras.callbacks.EarlyStopping(monitor='loss', patience=n_idle_epochs, min_delta=0.01)\n",
    "# Creating a custom callback to print the log after a certain number of epochs\n",
    "class NEPOCHLogger(tf.keras.callbacks.Callback):\n",
    "    def __init__(self,per_epoch=100):\n",
    "        '''\n",
    "        display: Number of batches to wait before outputting loss\n",
    "        '''\n",
    "        self.seen = 0\n",
    "        self.per_epoch = per_epoch\n",
    "    \n",
    "    def on_epoch_end(self, epoch, logs=None):\n",
    "      if epoch % self.per_epoch == 0:\n",
    "        print('Epoch {}, loss {:.2f}, mae {:.2f}, mse {:.2f}'\\\n",
    "              .format(epoch, logs['loss'], logs['mae'], logs['mse']))\n",
    "\n",
    "log_display = NEPOCHLogger(per_epoch=10)"
   ]
  },
  {
   "cell_type": "code",
   "execution_count": 9,
   "metadata": {},
   "outputs": [
    {
     "name": "stdout",
     "output_type": "stream",
     "text": [
      "Epoch 0, loss 433.58, mae 18.01, mse 433.58\n",
      "Epoch 10, loss 36.18, mae 5.14, mse 36.18\n",
      "Epoch 20, loss 0.35, mae 0.58, mse 0.35\n",
      "Epoch 30, loss 0.05, mae 0.20, mse 0.05\n",
      "Epoch 40, loss 0.04, mae 0.17, mse 0.04\n",
      "Epoch 50, loss 0.03, mae 0.15, mse 0.03\n",
      "Epoch 60, loss 0.03, mae 0.15, mse 0.03\n",
      "Epoch 70, loss 0.03, mae 0.14, mse 0.03\n",
      "Epoch 80, loss 0.03, mae 0.14, mse 0.03\n",
      "Epoch 90, loss 0.03, mae 0.13, mse 0.03\n",
      "Epoch 100, loss 0.02, mae 0.13, mse 0.02\n",
      "Epoch 110, loss 0.02, mae 0.12, mse 0.02\n",
      "Epoch 120, loss 0.02, mae 0.11, mse 0.02\n",
      "Epoch 130, loss 0.02, mae 0.11, mse 0.02\n",
      "Epoch 140, loss 0.01, mae 0.10, mse 0.01\n",
      "Epoch 150, loss 0.01, mae 0.09, mse 0.01\n",
      "Epoch 160, loss 0.01, mae 0.08, mse 0.01\n",
      "Epoch 170, loss 0.01, mae 0.07, mse 0.01\n",
      "Epoch 180, loss 0.01, mae 0.06, mse 0.01\n",
      "Epoch 190, loss 0.00, mae 0.05, mse 0.00\n",
      "Epoch 200, loss 0.00, mae 0.04, mse 0.00\n",
      "Epoch 210, loss 0.00, mae 0.03, mse 0.00\n",
      "Epoch 220, loss 0.00, mae 0.03, mse 0.00\n",
      "Epoch 230, loss 0.00, mae 0.02, mse 0.00\n",
      "Epoch 240, loss 0.00, mae 0.01, mse 0.00\n",
      "Epoch 250, loss 0.00, mae 0.01, mse 0.00\n",
      "Epoch 260, loss 0.00, mae 0.00, mse 0.00\n",
      "Epoch 270, loss 0.00, mae 0.00, mse 0.00\n"
     ]
    }
   ],
   "source": [
    "n_epochs = 2000\n",
    "history = model.fit(\n",
    "  X_train, y_train, batch_size=32,\n",
    "  epochs=n_epochs, verbose=0, callbacks=[earlyStopping, log_display])"
   ]
  },
  {
   "cell_type": "code",
   "execution_count": 10,
   "metadata": {},
   "outputs": [],
   "source": [
    "predictions = model.predict(X_test).flatten()"
   ]
  },
  {
   "cell_type": "code",
   "execution_count": 11,
   "metadata": {},
   "outputs": [
    {
     "data": {
      "image/png": "[encoded data removed]",
      "text/plain": [
       "<Figure size 432x288 with 1 Axes>"
      ]
     },
     "metadata": {
      "needs_background": "light"
     },
     "output_type": "display_data"
    }
   ],
   "source": [
    "a = plt.axes(aspect='equal')\n",
    "plt.scatter(predictions, y_test, edgecolors=(0, 0, 0))\n",
    "plt.xlabel('True Values')\n",
    "plt.ylabel('Predictions')\n",
    "lims = [0, 10]\n",
    "plt.xlim(lims)\n",
    "plt.ylim(lims)\n",
    "_ = plt.plot(lims, lims)"
   ]
  },
  {
   "cell_type": "code",
   "execution_count": 12,
   "metadata": {},
   "outputs": [
    {
     "data": {
      "text/plain": [
       "array([[  9.996741],\n",
       "       [ 19.997276],\n",
       "       [ 29.997812],\n",
       "       [200.00691 ]], dtype=float32)"
      ]
     },
     "execution_count": 12,
     "metadata": {},
     "output_type": "execute_result"
    }
   ],
   "source": [
    "model.predict([10,20,30,200])"
   ]
  },
  {
   "cell_type": "code",
   "execution_count": 22,
   "metadata": {},
   "outputs": [
    {
     "name": "stdout",
     "output_type": "stream",
     "text": [
      "INFO:tensorflow:Assets written to: models/saved_models/linear_model/assets\n",
      "===============================================================================================================================================\n",
      "\n",
      "\n",
      ">>> IMPORTANT: CONVERT TO ONNX MODEL FORMAT\n",
      "\n",
      "$ python3 -m tf2onnx.convert --saved-model 'models/saved_models/linear_model' --output 'models/onnx_models/linear.onnx'\n",
      "\n",
      "\n",
      "===============================================================================================================================================\n"
     ]
    }
   ],
   "source": [
    "#model.save(\"linear.h5\") # for HDF5 format\n",
    "\n",
    "# For converting to ONNX\n",
    "tf.saved_model.save(model, \"models/saved_models/linear_model\")\n",
    "\n",
    "print(\"===============================================================================================================================================\")\n",
    "print(\"\\n\\n>>> IMPORTANT: CONVERT TO ONNX MODEL FORMAT\\n\\n$ python3 -m tf2onnx.convert --saved-model 'models/saved_models/linear_model' --output 'models/onnx_models/linear.onnx'\\n\\n\")\n",
    "print(\"===============================================================================================================================================\")"
   ]
  },
  {
   "cell_type": "code",
   "execution_count": 23,
   "metadata": {},
   "outputs": [
    {
     "name": "stdout",
     "output_type": "stream",
     "text": [
      "[[1000.]\n",
      " [1001.]\n",
      " [1002.]\n",
      " [1003.]\n",
      " [1004.]\n",
      " [1005.]\n",
      " [1006.]\n",
      " [1007.]\n",
      " [1008.]\n",
      " [1009.]\n",
      " [1010.]\n",
      " [1011.]\n",
      " [1012.]\n",
      " [1013.]\n",
      " [1014.]\n",
      " [1015.]\n",
      " [1016.]\n",
      " [1017.]\n",
      " [1018.]\n",
      " [1019.]\n",
      " [1020.]\n",
      " [1021.]\n",
      " [1022.]\n",
      " [1023.]\n",
      " [1024.]]\n",
      "dense_input\n",
      "dense\n"
     ]
    },
    {
     "data": {
      "text/plain": [
       "True"
      ]
     },
     "execution_count": 23,
     "metadata": {},
     "output_type": "execute_result"
    }
   ],
   "source": [
    "import onnxruntime\n",
    "session = onnxruntime.InferenceSession(\"models/onnx_models/linear.onnx\", providers=['CPUExecutionProvider'])\n",
    "\n",
    "\n",
    "xrange = np.arange(1000, 1025, 1)\n",
    "x_live = np.array([xrange[i:i+1] for i in range(0,len(xrange),1)]).astype(np.float32)\n",
    "print(x_live)\n",
    "\n",
    "ortvalue = onnxruntime.OrtValue.ortvalue_from_numpy(x_live)\n",
    "ortvalue.device_name()  # 'cpu'\n",
    "ortvalue.shape()        # shape of the numpy array X\n",
    "ortvalue.data_type()    # 'tensor(float)'\n",
    "ortvalue.is_tensor()    # 'True'\n",
    "\n",
    "input_name = session.get_inputs()[0].name\n",
    "print(input_name)\n",
    "\n",
    "output_name = session.get_outputs()[0].name\n",
    "print(output_name)\n",
    "\n",
    "np.array_equal(ortvalue.numpy(), x_live)  # 'True'\n",
    "\n"
   ]
  },
  {
   "cell_type": "code",
   "execution_count": 24,
   "metadata": {},
   "outputs": [
    {
     "name": "stdout",
     "output_type": "stream",
     "text": [
      "[array([[1000.04974],\n",
      "       [1001.0498 ],\n",
      "       [1002.04987],\n",
      "       [1003.0499 ],\n",
      "       [1004.0499 ],\n",
      "       [1005.05   ],\n",
      "       [1006.05005],\n",
      "       [1007.0501 ],\n",
      "       [1008.0502 ],\n",
      "       [1009.05023],\n",
      "       [1010.0503 ],\n",
      "       [1011.05035],\n",
      "       [1012.05035],\n",
      "       [1013.0504 ],\n",
      "       [1014.0505 ],\n",
      "       [1015.05054],\n",
      "       [1016.0506 ],\n",
      "       [1017.05066],\n",
      "       [1018.0507 ],\n",
      "       [1019.0508 ],\n",
      "       [1020.0508 ],\n",
      "       [1021.05084],\n",
      "       [1022.0509 ],\n",
      "       [1023.05096],\n",
      "       [1024.051  ]], dtype=float32)]\n"
     ]
    }
   ],
   "source": [
    "results = session.run(None, {input_name: ortvalue})\n",
    "print(results)"
   ]
  },
  {
   "cell_type": "code",
   "execution_count": null,
   "metadata": {},
   "outputs": [],
   "source": []
  },
  {
   "cell_type": "code",
   "execution_count": null,
   "metadata": {},
   "outputs": [],
   "source": []
  }
 ],
 "metadata": {
  "interpreter": {
   "hash": "916dbcbb3f70747c44a77c7bcd40155683ae19c65e1c03b4aa3499c5328201f1"
  },
  "kernelspec": {
   "display_name": "Python 3.8.10 64-bit",
   "language": "python",
   "name": "python3"
  },
  "language_info": {
   "codemirror_mode": {
    "name": "ipython",
    "version": 3
   },
   "file_extension": ".py",
   "mimetype": "text/x-python",
   "name": "python",
   "nbconvert_exporter": "python",
   "pygments_lexer": "ipython3",
   "version": "3.8.10"
  },
  "orig_nbformat": 4
 },
 "nbformat": 4,
 "nbformat_minor": 2
}
